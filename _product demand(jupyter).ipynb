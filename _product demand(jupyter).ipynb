{
 "cells": [
  {
   "cell_type": "code",
   "execution_count": 1,
   "id": "713583dd",
   "metadata": {},
   "outputs": [],
   "source": [
    "#downloading dataset, importing libraries\n",
    "import pandas as pd\n",
    "\n",
    "import numpy as np\n",
    "\n",
    "import os\n",
    "\n",
    "import matplotlib.pyplot as plt\n",
    "\n",
    "import seaborn as sns\n",
    "\n",
    "import sys\n",
    "\n",
    "from sklearn.preprocessing import MinMaxScaler\n",
    "from sklearn.preprocessing import OrdinalEncoder\n",
    "from sklearn.model_selection import train_test_split \n",
    "from sklearn.preprocessing import StandardScaler\n",
    "from sklearn.neighbors import KNeighborsRegressor\n",
    "from sklearn.metrics import mean_squared_error\n",
    "from sklearn import tree\n",
    "from sklearn.svm import SVR\n",
    "from sklearn.tree import DecisionTreeRegressor"
   ]
  },
  {
   "cell_type": "code",
   "execution_count": 2,
   "id": "3815448a",
   "metadata": {},
   "outputs": [
    {
     "data": {
      "text/html": [
       "<div>\n",
       "<style scoped>\n",
       "    .dataframe tbody tr th:only-of-type {\n",
       "        vertical-align: middle;\n",
       "    }\n",
       "\n",
       "    .dataframe tbody tr th {\n",
       "        vertical-align: top;\n",
       "    }\n",
       "\n",
       "    .dataframe thead th {\n",
       "        text-align: right;\n",
       "    }\n",
       "</style>\n",
       "<table border=\"1\" class=\"dataframe\">\n",
       "  <thead>\n",
       "    <tr style=\"text-align: right;\">\n",
       "      <th></th>\n",
       "      <th>Product_Code</th>\n",
       "      <th>Warehouse</th>\n",
       "      <th>Product_Category</th>\n",
       "      <th>Date</th>\n",
       "      <th>Order_Demand</th>\n",
       "    </tr>\n",
       "  </thead>\n",
       "  <tbody>\n",
       "    <tr>\n",
       "      <th>0</th>\n",
       "      <td>Product_0993</td>\n",
       "      <td>Whse_J</td>\n",
       "      <td>Category_028</td>\n",
       "      <td>2012/7/27</td>\n",
       "      <td>100</td>\n",
       "    </tr>\n",
       "    <tr>\n",
       "      <th>1</th>\n",
       "      <td>Product_0979</td>\n",
       "      <td>Whse_J</td>\n",
       "      <td>Category_028</td>\n",
       "      <td>2012/1/19</td>\n",
       "      <td>500</td>\n",
       "    </tr>\n",
       "    <tr>\n",
       "      <th>2</th>\n",
       "      <td>Product_0979</td>\n",
       "      <td>Whse_J</td>\n",
       "      <td>Category_028</td>\n",
       "      <td>2012/2/3</td>\n",
       "      <td>500</td>\n",
       "    </tr>\n",
       "    <tr>\n",
       "      <th>3</th>\n",
       "      <td>Product_0979</td>\n",
       "      <td>Whse_J</td>\n",
       "      <td>Category_028</td>\n",
       "      <td>2012/2/9</td>\n",
       "      <td>500</td>\n",
       "    </tr>\n",
       "    <tr>\n",
       "      <th>4</th>\n",
       "      <td>Product_0979</td>\n",
       "      <td>Whse_J</td>\n",
       "      <td>Category_028</td>\n",
       "      <td>2012/3/2</td>\n",
       "      <td>500</td>\n",
       "    </tr>\n",
       "    <tr>\n",
       "      <th>...</th>\n",
       "      <td>...</td>\n",
       "      <td>...</td>\n",
       "      <td>...</td>\n",
       "      <td>...</td>\n",
       "      <td>...</td>\n",
       "    </tr>\n",
       "    <tr>\n",
       "      <th>1048570</th>\n",
       "      <td>Product_1791</td>\n",
       "      <td>Whse_J</td>\n",
       "      <td>Category_006</td>\n",
       "      <td>2016/4/27</td>\n",
       "      <td>1000</td>\n",
       "    </tr>\n",
       "    <tr>\n",
       "      <th>1048571</th>\n",
       "      <td>Product_1974</td>\n",
       "      <td>Whse_J</td>\n",
       "      <td>Category_006</td>\n",
       "      <td>2016/4/27</td>\n",
       "      <td>1</td>\n",
       "    </tr>\n",
       "    <tr>\n",
       "      <th>1048572</th>\n",
       "      <td>Product_1787</td>\n",
       "      <td>Whse_J</td>\n",
       "      <td>Category_006</td>\n",
       "      <td>2016/4/28</td>\n",
       "      <td>2500</td>\n",
       "    </tr>\n",
       "    <tr>\n",
       "      <th>1048573</th>\n",
       "      <td>Product_0901</td>\n",
       "      <td>Whse_J</td>\n",
       "      <td>Category_023</td>\n",
       "      <td>2016/10/7</td>\n",
       "      <td>50</td>\n",
       "    </tr>\n",
       "    <tr>\n",
       "      <th>1048574</th>\n",
       "      <td>Product_0704</td>\n",
       "      <td>Whse_J</td>\n",
       "      <td>Category_001</td>\n",
       "      <td>2016/6/27</td>\n",
       "      <td>4</td>\n",
       "    </tr>\n",
       "  </tbody>\n",
       "</table>\n",
       "<p>1037336 rows × 5 columns</p>\n",
       "</div>"
      ],
      "text/plain": [
       "         Product_Code Warehouse Product_Category       Date Order_Demand\n",
       "0        Product_0993    Whse_J     Category_028  2012/7/27         100 \n",
       "1        Product_0979    Whse_J     Category_028  2012/1/19         500 \n",
       "2        Product_0979    Whse_J     Category_028   2012/2/3         500 \n",
       "3        Product_0979    Whse_J     Category_028   2012/2/9         500 \n",
       "4        Product_0979    Whse_J     Category_028   2012/3/2         500 \n",
       "...               ...       ...              ...        ...          ...\n",
       "1048570  Product_1791    Whse_J     Category_006  2016/4/27        1000 \n",
       "1048571  Product_1974    Whse_J     Category_006  2016/4/27           1 \n",
       "1048572  Product_1787    Whse_J     Category_006  2016/4/28        2500 \n",
       "1048573  Product_0901    Whse_J     Category_023  2016/10/7          50 \n",
       "1048574  Product_0704    Whse_J     Category_001  2016/6/27           4 \n",
       "\n",
       "[1037336 rows x 5 columns]"
      ]
     },
     "execution_count": 2,
     "metadata": {},
     "output_type": "execute_result"
    }
   ],
   "source": [
    "#reading the dataset, deleting missing value entries\n",
    "df = pd.read_csv('Historical Product Demand.csv')\n",
    "\n",
    "df.head()\n",
    "\n",
    "df.dropna()"
   ]
  },
  {
   "cell_type": "code",
   "execution_count": 3,
   "id": "fd56c071",
   "metadata": {},
   "outputs": [
    {
     "data": {
      "text/plain": [
       "Index(['Product_Code', 'Warehouse', 'Product_Category', 'Date',\n",
       "       'Order_Demand'],\n",
       "      dtype='object')"
      ]
     },
     "execution_count": 3,
     "metadata": {},
     "output_type": "execute_result"
    }
   ],
   "source": [
    "#displaying actual column names\n",
    "df.columns"
   ]
  },
  {
   "cell_type": "code",
   "execution_count": 4,
   "id": "4ae17f03",
   "metadata": {},
   "outputs": [
    {
     "data": {
      "text/html": [
       "<div>\n",
       "<style scoped>\n",
       "    .dataframe tbody tr th:only-of-type {\n",
       "        vertical-align: middle;\n",
       "    }\n",
       "\n",
       "    .dataframe tbody tr th {\n",
       "        vertical-align: top;\n",
       "    }\n",
       "\n",
       "    .dataframe thead th {\n",
       "        text-align: right;\n",
       "    }\n",
       "</style>\n",
       "<table border=\"1\" class=\"dataframe\">\n",
       "  <thead>\n",
       "    <tr style=\"text-align: right;\">\n",
       "      <th></th>\n",
       "      <th>Product_Code</th>\n",
       "      <th>Warehouse</th>\n",
       "      <th>Product_Category</th>\n",
       "    </tr>\n",
       "  </thead>\n",
       "  <tbody>\n",
       "    <tr>\n",
       "      <th>0</th>\n",
       "      <td>982.0</td>\n",
       "      <td>2.0</td>\n",
       "      <td>27.0</td>\n",
       "    </tr>\n",
       "    <tr>\n",
       "      <th>1</th>\n",
       "      <td>968.0</td>\n",
       "      <td>2.0</td>\n",
       "      <td>27.0</td>\n",
       "    </tr>\n",
       "    <tr>\n",
       "      <th>2</th>\n",
       "      <td>968.0</td>\n",
       "      <td>2.0</td>\n",
       "      <td>27.0</td>\n",
       "    </tr>\n",
       "    <tr>\n",
       "      <th>3</th>\n",
       "      <td>968.0</td>\n",
       "      <td>2.0</td>\n",
       "      <td>27.0</td>\n",
       "    </tr>\n",
       "    <tr>\n",
       "      <th>4</th>\n",
       "      <td>968.0</td>\n",
       "      <td>2.0</td>\n",
       "      <td>27.0</td>\n",
       "    </tr>\n",
       "    <tr>\n",
       "      <th>...</th>\n",
       "      <td>...</td>\n",
       "      <td>...</td>\n",
       "      <td>...</td>\n",
       "    </tr>\n",
       "    <tr>\n",
       "      <th>1048570</th>\n",
       "      <td>1780.0</td>\n",
       "      <td>2.0</td>\n",
       "      <td>5.0</td>\n",
       "    </tr>\n",
       "    <tr>\n",
       "      <th>1048571</th>\n",
       "      <td>1962.0</td>\n",
       "      <td>2.0</td>\n",
       "      <td>5.0</td>\n",
       "    </tr>\n",
       "    <tr>\n",
       "      <th>1048572</th>\n",
       "      <td>1776.0</td>\n",
       "      <td>2.0</td>\n",
       "      <td>5.0</td>\n",
       "    </tr>\n",
       "    <tr>\n",
       "      <th>1048573</th>\n",
       "      <td>890.0</td>\n",
       "      <td>2.0</td>\n",
       "      <td>22.0</td>\n",
       "    </tr>\n",
       "    <tr>\n",
       "      <th>1048574</th>\n",
       "      <td>703.0</td>\n",
       "      <td>2.0</td>\n",
       "      <td>0.0</td>\n",
       "    </tr>\n",
       "  </tbody>\n",
       "</table>\n",
       "<p>1048575 rows × 3 columns</p>\n",
       "</div>"
      ],
      "text/plain": [
       "         Product_Code  Warehouse  Product_Category\n",
       "0               982.0        2.0              27.0\n",
       "1               968.0        2.0              27.0\n",
       "2               968.0        2.0              27.0\n",
       "3               968.0        2.0              27.0\n",
       "4               968.0        2.0              27.0\n",
       "...               ...        ...               ...\n",
       "1048570        1780.0        2.0               5.0\n",
       "1048571        1962.0        2.0               5.0\n",
       "1048572        1776.0        2.0               5.0\n",
       "1048573         890.0        2.0              22.0\n",
       "1048574         703.0        2.0               0.0\n",
       "\n",
       "[1048575 rows x 3 columns]"
      ]
     },
     "metadata": {},
     "output_type": "display_data"
    }
   ],
   "source": [
    "# encoding \"product_code, warehouse and product_category columns; and selecting features\n",
    "enc = OrdinalEncoder()\n",
    "\n",
    "\n",
    "df[['Product_Code', 'Warehouse', 'Product_Category']] = enc.fit_transform(df[['Product_Code', 'Warehouse', 'Product_Category']])\n",
    "\n",
    "# date column not selected\n",
    "selected_features = df[['Product_Code', 'Warehouse', 'Product_Category']]\n",
    "display(selected_features)"
   ]
  },
  {
   "cell_type": "code",
   "execution_count": 5,
   "id": "9664f449",
   "metadata": {},
   "outputs": [],
   "source": [
    "# removing commas and spaces to prevent errors\n",
    "df['Order_Demand'] = df['Order_Demand'].str.replace(\"(\",\"\")\n",
    "\n",
    "df['Order_Demand'] = df['Order_Demand'].str.replace(\")\",\"\")\n"
   ]
  },
  {
   "cell_type": "code",
   "execution_count": 6,
   "id": "a5cd9081",
   "metadata": {
    "scrolled": true
   },
   "outputs": [],
   "source": [
    "#selecting and scaling X variable (selected features).\n",
    "#converting required columns into numberic\n",
    "df[['Product_Code', 'Warehouse', 'Product_Category', 'Order_Demand']] = df[['Product_Code', 'Warehouse', 'Product_Category','Order_Demand']].apply(pd.to_numeric)\n",
    "X = selected_features\n"
   ]
  },
  {
   "cell_type": "code",
   "execution_count": 7,
   "id": "ad82c214",
   "metadata": {},
   "outputs": [],
   "source": [
    "# defining y variable\n",
    "\n",
    "y = df['Order_Demand'].values"
   ]
  },
  {
   "cell_type": "code",
   "execution_count": 8,
   "id": "14d00e63",
   "metadata": {},
   "outputs": [],
   "source": [
    "#creating a split (train/test)\n",
    "X_train, X_test_val, y_train, y_test_val = train_test_split(X, y, test_size=0.2, random_state=45)\n",
    "\n",
    "\n",
    "#creating a split (train/val)\n",
    "\n",
    "X_test, X_val, y_test, y_val = train_test_split(X_test_val, y_test_val, test_size=0.5, random_state=45)\n",
    "\n",
    "# now the train/validate/test split will be 80%/10%/10%"
   ]
  },
  {
   "cell_type": "code",
   "execution_count": 9,
   "id": "84856e5f",
   "metadata": {},
   "outputs": [
    {
     "name": "stdout",
     "output_type": "stream",
     "text": [
      "Squared Error 0.25221928220606027\n"
     ]
    }
   ],
   "source": [
    "#decision tree regressor (part 1):\n",
    "#squared_error criterion\n",
    "\n",
    "DTR = DecisionTreeRegressor(criterion = 'squared_error')\n",
    "DTR = DTR.fit(X_train,y_train)\n",
    "y_pred = DTR.predict(X_test)\n",
    "score = DTR.score(X_test,y_test)\n",
    "print (\"Squared Error\", DTR.score(X_test, y_test))\n",
    "    \n"
   ]
  },
  {
   "cell_type": "code",
   "execution_count": 10,
   "id": "f46e3778",
   "metadata": {},
   "outputs": [
    {
     "name": "stdout",
     "output_type": "stream",
     "text": [
      "Poisson 0.25221928220606027\n"
     ]
    }
   ],
   "source": [
    "#decision tree regressor (part 2):\n",
    "#poisson criterion\n",
    "DTR1 = DecisionTreeRegressor(criterion = 'poisson')\n",
    "DTR1 = DTR1.fit(X_train,y_train)\n",
    "y_pred1 = DTR1.predict(X_test)\n",
    "score1 = DTR1.score(X_test,y_test)\n",
    "print (\"Poisson\", DTR1.score(X_test, y_test))"
   ]
  },
  {
   "cell_type": "code",
   "execution_count": 11,
   "id": "f0df0349",
   "metadata": {},
   "outputs": [
    {
     "name": "stdout",
     "output_type": "stream",
     "text": [
      "Friedman MSe 0.25221928220606027\n"
     ]
    }
   ],
   "source": [
    "#decision tree regressor (part 3):\n",
    "#friedman_mse criterion\n",
    "DTR2 = DecisionTreeRegressor(criterion = 'friedman_mse')\n",
    "DTR2 = DTR2.fit(X_train,y_train)\n",
    "y_pred2 = DTR2.predict(X_test)\n",
    "score2 = DTR2.score(X_test,y_test)\n",
    "print (\"Friedman MSe\", DTR2.score(X_test, y_test))"
   ]
  },
  {
   "cell_type": "code",
   "execution_count": 12,
   "id": "8e3aa056",
   "metadata": {},
   "outputs": [
    {
     "name": "stderr",
     "output_type": "stream",
     "text": [
      "C:\\Users\\ideod\\anaconda3\\Lib\\site-packages\\sklearn\\svm\\_base.py:297: ConvergenceWarning: Solver terminated early (max_iter=100).  Consider pre-processing your data with StandardScaler or MinMaxScaler.\n",
      "  warnings.warn(\n"
     ]
    },
    {
     "name": "stdout",
     "output_type": "stream",
     "text": [
      "linear -296.13103158097584\n"
     ]
    },
    {
     "name": "stderr",
     "output_type": "stream",
     "text": [
      "C:\\Users\\ideod\\anaconda3\\Lib\\site-packages\\sklearn\\svm\\_base.py:297: ConvergenceWarning: Solver terminated early (max_iter=100).  Consider pre-processing your data with StandardScaler or MinMaxScaler.\n",
      "  warnings.warn(\n"
     ]
    },
    {
     "name": "stdout",
     "output_type": "stream",
     "text": [
      "poly -296.13103158097584\n"
     ]
    },
    {
     "name": "stderr",
     "output_type": "stream",
     "text": [
      "C:\\Users\\ideod\\anaconda3\\Lib\\site-packages\\sklearn\\svm\\_base.py:297: ConvergenceWarning: Solver terminated early (max_iter=100).  Consider pre-processing your data with StandardScaler or MinMaxScaler.\n",
      "  warnings.warn(\n"
     ]
    },
    {
     "name": "stdout",
     "output_type": "stream",
     "text": [
      "rbf -296.13103158097584\n"
     ]
    },
    {
     "name": "stderr",
     "output_type": "stream",
     "text": [
      "C:\\Users\\ideod\\anaconda3\\Lib\\site-packages\\sklearn\\svm\\_base.py:297: ConvergenceWarning: Solver terminated early (max_iter=100).  Consider pre-processing your data with StandardScaler or MinMaxScaler.\n",
      "  warnings.warn(\n"
     ]
    },
    {
     "name": "stdout",
     "output_type": "stream",
     "text": [
      "sigmoid -296.1260201791136\n"
     ]
    }
   ],
   "source": [
    "#training SVR Regressor model withmax iterations of 100\n",
    "\n",
    "for k in ['linear', 'poly', 'rbf', 'sigmoid']:\n",
    "    dat = SVR(kernel = k, max_iter = 100)\n",
    "    dat.fit(X_train, y_train)\n",
    "    scores = dat.score(X_test, y_test)\n",
    "    print (k, scores)"
   ]
  },
  {
   "cell_type": "code",
   "execution_count": 13,
   "id": "904f543c",
   "metadata": {},
   "outputs": [
    {
     "name": "stdout",
     "output_type": "stream",
     "text": [
      "0.16075985081655997\n"
     ]
    }
   ],
   "source": [
    "#training KNeighbors Regressor (step 6)\n",
    "KNN = KNeighborsRegressor(n_neighbors =1000)\n",
    "KNN.fit(X_train, y_train)\n",
    "y_pred = KNN.predict(X_test)\n",
    "scoreKNN = KNN.score(X_test, y_test)\n",
    "print (scoreKNN)\n",
    "#print(mean_squared_error(y_test, y_pred))\n"
   ]
  },
  {
   "cell_type": "code",
   "execution_count": 14,
   "id": "1e60c905",
   "metadata": {},
   "outputs": [
    {
     "name": "stdout",
     "output_type": "stream",
     "text": [
      "All the 4 criterion of the Decision Tree Regressor give the same R squared score\n",
      "All 4 kernels for SVR Regressor,except for 'sigmoid'; give same R squared score\n",
      "out of 3 Regressor models tried above; Decision Tree Regressor gives best R squared score\n"
     ]
    }
   ],
   "source": [
    "# conclusion\n",
    "print (\"All the 4 criterion of the Decision Tree Regressor give the same R squared score\")\n",
    "print (\"All 4 kernels for SVR Regressor,except for 'sigmoid'; give same R squared score\")\n",
    "print (\"out of 3 Regressor models tried above; Decision Tree Regressor gives best R squared score\")"
   ]
  }
 ],
 "metadata": {
  "kernelspec": {
   "display_name": "Python 3 (ipykernel)",
   "language": "python",
   "name": "python3"
  },
  "language_info": {
   "codemirror_mode": {
    "name": "ipython",
    "version": 3
   },
   "file_extension": ".py",
   "mimetype": "text/x-python",
   "name": "python",
   "nbconvert_exporter": "python",
   "pygments_lexer": "ipython3",
   "version": "3.11.5"
  }
 },
 "nbformat": 4,
 "nbformat_minor": 5
}
